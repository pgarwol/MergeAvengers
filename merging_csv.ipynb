{
 "cells": [
  {
   "cell_type": "code",
   "execution_count": 1,
   "metadata": {},
   "outputs": [],
   "source": [
    "from sklearn.metrics import jaccard_score\n",
    "import pandas as pd\n",
    "import numpy as np\n",
    "\n",
    "from bs4 import BeautifulSoup\n",
    "import spacy\n",
    "import re"
   ]
  },
  {
   "cell_type": "code",
   "execution_count": 2,
   "metadata": {},
   "outputs": [
    {
     "name": "stdout",
     "output_type": "stream",
     "text": [
      "                                        line         start           end\n",
      "0       Report to your stations immediately.  00:00:42,800  00:00:44,802\n",
      "1  This is not a drill. We are under attack!  00:00:44,960  00:00:47,721\n",
      "================================================================================\n",
      "     speaker                                 line\n",
      "0  Announcer  Report to your stations immediately\n",
      "1  Announcer                  This is not a drill\n",
      "=========================\n",
      "(1893, 3) (1847, 2)\n"
     ]
    }
   ],
   "source": [
    "df_timestamps = pd.read_csv('with_timestamps.csv', index_col=0)\n",
    "df_who_said = pd.read_csv('who_said_splitted.csv', index_col=0)\n",
    "\n",
    "print(df_timestamps.head(2))\n",
    "print('='*80)\n",
    "print(df_who_said.head(2))\n",
    "print('='*25)\n",
    "print(df_timestamps.shape, df_who_said.shape)"
   ]
  },
  {
   "cell_type": "code",
   "execution_count": 3,
   "metadata": {},
   "outputs": [
    {
     "name": "stderr",
     "output_type": "stream",
     "text": [
      "C:\\Users\\Patryk\\AppData\\Local\\Temp\\ipykernel_11392\\751405105.py:16: UserWarning: [W008] Evaluating Doc.similarity based on empty vectors.\n",
      "  similarity = time_line.similarity(compared_line)\n"
     ]
    }
   ],
   "source": [
    "nlp = spacy.load(\"en_core_web_md\")\n",
    "\n",
    "# zasięg indeksów, w których szukamy podobnych zdań -> osobę, która je wypowiedziała\n",
    "comparison_range = 20\n",
    "for i, row in df_timestamps.iterrows():\n",
    "    if i > 600:\n",
    "        comparison_range = 30\n",
    "\n",
    "    time_line = nlp(row['line'])\n",
    "    highest_similarity = 0\n",
    "    bottom_limit = i-comparison_range if i-comparison_range >= 0 else i\n",
    "\n",
    "    for j in range(bottom_limit, min(i + 1 + comparison_range, len(df_who_said))):\n",
    "        compared_row = df_who_said.loc[j]\n",
    "        compared_line = nlp(str(compared_row['line']))\n",
    "        similarity = time_line.similarity(compared_line)\n",
    "\n",
    "        if similarity >= highest_similarity:\n",
    "            df_timestamps.at[i, 'who_said'] = df_who_said.iloc[j]['speaker']\n",
    "            df_timestamps.at[i, 'similarity'] = np.round(similarity, 2)\n",
    "            df_timestamps.at[i, 'similar_line'] = compared_row['line']\n",
    "            highest_similarity = similarity"
   ]
  },
  {
   "cell_type": "code",
   "execution_count": null,
   "metadata": {},
   "outputs": [],
   "source": [
    "df = df_timestamps[['start', 'end', 'who_said', 'line', 'similarity', 'similar_line']]"
   ]
  },
  {
   "cell_type": "code",
   "execution_count": null,
   "metadata": {},
   "outputs": [],
   "source": [
    "df.to_csv('merged.csv')"
   ]
  },
  {
   "cell_type": "code",
   "execution_count": null,
   "metadata": {},
   "outputs": [],
   "source": []
  }
 ],
 "metadata": {
  "kernelspec": {
   "display_name": "Python 3",
   "language": "python",
   "name": "python3"
  },
  "language_info": {
   "codemirror_mode": {
    "name": "ipython",
    "version": 3
   },
   "file_extension": ".py",
   "mimetype": "text/x-python",
   "name": "python",
   "nbconvert_exporter": "python",
   "pygments_lexer": "ipython3",
   "version": "3.11.1"
  }
 },
 "nbformat": 4,
 "nbformat_minor": 2
}
