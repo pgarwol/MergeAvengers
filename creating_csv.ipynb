{
 "cells": [
  {
   "cell_type": "code",
   "execution_count": 1,
   "metadata": {},
   "outputs": [],
   "source": [
    "import re\n",
    "import pandas as pd\n",
    "from bs4 import BeautifulSoup"
   ]
  },
  {
   "cell_type": "markdown",
   "metadata": {},
   "source": [
    "### Konwertowanie pliku txt z <b>timestampami na </b> DataFrame"
   ]
  },
  {
   "cell_type": "code",
   "execution_count": 2,
   "metadata": {},
   "outputs": [
    {
     "name": "stdout",
     "output_type": "stream",
     "text": [
      "89\n"
     ]
    }
   ],
   "source": [
    "with open('Avengers_Age_of_Ultron(1).txt', 'r') as file:\n",
    "    content = file.read()\n",
    "\n",
    "soup = BeautifulSoup(content, 'html.parser')\n",
    "content_notags = soup.get_text()\n",
    "dialogue_lines = content_notags.split('\\n\\n')\n",
    "\n",
    "starts, ends, lines = [], [], []\n",
    "count = 0\n",
    "last_symbol_was_comma = False\n",
    "\n",
    "for i, line in enumerate(dialogue_lines):\n",
    "    stripped_line = line.split('\\n')[1:]\n",
    "    timestamp = stripped_line[0]\n",
    "    start = timestamp.split(' --> ')[0]\n",
    "    end = timestamp.split(' --> ')[1]\n",
    "\n",
    "    # sometimes 2 people talk at the same time\n",
    "\n",
    "    punctuation_signs = {'.', '!', '?'}\n",
    "    sentences = stripped_line[1:]\n",
    "    if sentences[0][-1] not in punctuation_signs and len(sentences) > 1:\n",
    "        sentences = [sentences[0] + ' ' + sentences[1]]\n",
    "\n",
    "    for sentence in sentences:\n",
    "        modified_sentence = ''.join(char for char in sentence if char != '\"' and char != '-')\n",
    "\n",
    "        if last_symbol_was_comma:\n",
    "            # poprzednia linia tak naprawdę się nie zakończyła, więc chcemy ją dokleić do aktualnej\n",
    "            last_index = len(lines)-1\n",
    "            lines[last_index] += ' ' + modified_sentence.strip()\n",
    "            # początku nie zmieniamy, ale zmieniamy koniec wypowiedzi\n",
    "            ends[last_index] = end\n",
    "            last_symbol_was_comma = False\n",
    "        else:\n",
    "            lines.append(modified_sentence.strip())\n",
    "            starts.append(start)\n",
    "            ends.append(end)\n",
    "\n",
    "    if modified_sentence.endswith(','):\n",
    "        count += 1 \n",
    "        last_symbol_was_comma = True\n",
    "\n",
    "\n",
    "print(count)\n",
    "movie_captions = {\n",
    "    'line': lines,\n",
    "    'start': starts,\n",
    "    'end': ends\n",
    "}\n",
    "\n",
    "df = pd.DataFrame(movie_captions)"
   ]
  },
  {
   "cell_type": "code",
   "execution_count": 3,
   "metadata": {},
   "outputs": [
    {
     "name": "stdout",
     "output_type": "stream",
     "text": [
      "                                        line         start           end\n",
      "0       Report to your stations immediately.  00:00:42,800  00:00:44,802\n",
      "1  This is not a drill. We are under attack!  00:00:44,960  00:00:47,721\n",
      "2                       We are under attack!  00:00:49,120  00:00:51,088\n",
      "3                                      Shit!  00:01:52,200  00:01:54,487\n",
      "4                                  Language!  00:01:52,200  00:01:54,487\n"
     ]
    }
   ],
   "source": [
    "print(df.head())\n",
    "df.to_csv('with_timestamps.csv')"
   ]
  },
  {
   "cell_type": "markdown",
   "metadata": {},
   "source": [
    "### Konwertowanie pliku txt z <b>informacją, kto mówi</b> na DataFrame"
   ]
  },
  {
   "cell_type": "code",
   "execution_count": 4,
   "metadata": {},
   "outputs": [],
   "source": [
    "with open('Avengers_Age_of_Ultron.txt', 'r') as file:\n",
    "    content = file.read()\n",
    "\n",
    "speakers = []\n",
    "lines = []\n",
    "\n",
    "def get_text(line: str):\n",
    "    brackets_pattern = r'\\[([^]]+)\\]'\n",
    "    text = re.sub(brackets_pattern, '', line)\n",
    "    return text.strip()\n",
    "\n",
    "\n",
    "for line in content.split('\\n\\n'):\n",
    "    if ':' in line:\n",
    "        speaker = line.split(':')[0]\n",
    "\n",
    "        whole_text = get_text(line.split(':')[1])\n",
    "\n",
    "        whole_text = whole_text.replace('...', '.').\\\n",
    "                                        replace('?', '.').\\\n",
    "                                             replace('!', '.').\\\n",
    "                                                replace('Dr.', 'Dr ')\n",
    "\n",
    "        text_splitted = whole_text.split('.')[:-1]\n",
    "        for sentence in text_splitted:\n",
    "            modified_sentence = ''.join(char for char in sentence if char != '\"' and char != '-')\n",
    "            \n",
    "            if line != '':\n",
    "                lines.append(modified_sentence.strip())\n",
    "            speakers.append(speaker)\n",
    "    else:\n",
    "        continue\n",
    "\n",
    "\n",
    "movie_captions = {\n",
    "    'speaker': speakers,\n",
    "    'line': lines\n",
    "}\n",
    "\n",
    "df = pd.DataFrame(movie_captions)"
   ]
  },
  {
   "cell_type": "code",
   "execution_count": 5,
   "metadata": {},
   "outputs": [
    {
     "name": "stdout",
     "output_type": "stream",
     "text": [
      "0                   Report to your stations immediately\n",
      "1                                   This is not a drill\n",
      "2                                   We are under attack\n",
      "3                                   We are under attack\n",
      "4                                                  Shit\n",
      "5                                              Language\n",
      "6                 JARVIS, what's the view from upstairs\n",
      "7     The central building is protected by some kind...\n",
      "8     Strucker's technology is well beyond any other...\n",
      "9                           Loki's scepter must be here\n",
      "10      Strucker couldn't mount this defense without it\n",
      "11                                         At long last\n",
      "12    â€śAt long lastâ€ť is lasting a little long, boys\n",
      "13                                                 Yeah\n",
      "14              I think we lost the element of surprise\n",
      "15                                        Wait a second\n",
      "16    No one else is going to deal with the fact tha...\n",
      "17                                               I know\n",
      "18                                  It just slipped out\n",
      "19                         Who gave the order to attack\n",
      "Name: line, dtype: object\n"
     ]
    }
   ],
   "source": [
    "print(df.line.head(20))"
   ]
  },
  {
   "cell_type": "code",
   "execution_count": 6,
   "metadata": {},
   "outputs": [
    {
     "name": "stdout",
     "output_type": "stream",
     "text": [
      "      speaker                                 line\n",
      "0   Announcer  Report to your stations immediately\n",
      "1   Announcer                  This is not a drill\n",
      "2   Announcer                  We are under attack\n",
      "3   Announcer                  We are under attack\n",
      "4  Tony Stark                                 Shit\n"
     ]
    }
   ],
   "source": [
    "print(df.head())\n",
    "df.to_csv('who_said_splitted.csv')"
   ]
  }
 ],
 "metadata": {
  "kernelspec": {
   "display_name": "Python 3",
   "language": "python",
   "name": "python3"
  },
  "language_info": {
   "codemirror_mode": {
    "name": "ipython",
    "version": 3
   },
   "file_extension": ".py",
   "mimetype": "text/x-python",
   "name": "python",
   "nbconvert_exporter": "python",
   "pygments_lexer": "ipython3",
   "version": "3.11.1"
  }
 },
 "nbformat": 4,
 "nbformat_minor": 2
}
