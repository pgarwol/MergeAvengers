{
 "cells": [
  {
   "cell_type": "code",
   "execution_count": 1,
   "metadata": {},
   "outputs": [],
   "source": [
    "import re\n",
    "import pandas as pd\n",
    "from bs4 import BeautifulSoup"
   ]
  },
  {
   "cell_type": "markdown",
   "metadata": {},
   "source": [
    "### Konwertowanie pliku txt z <b>timestampami na </b> DataFrame"
   ]
  },
  {
   "cell_type": "code",
   "execution_count": 2,
   "metadata": {},
   "outputs": [],
   "source": [
    "with open('Avengers_Age_of_Ultron(1).txt', 'r') as file:\n",
    "    content = file.read()\n",
    "\n",
    "soup = BeautifulSoup(content, 'html.parser')\n",
    "content_notags = soup.get_text()\n",
    "dialogue_lines = content_notags.split('\\n\\n')\n",
    "\n",
    "starts = []\n",
    "ends = []\n",
    "lines = []\n",
    "\n",
    "for line in dialogue_lines:\n",
    "    stripped_line = line.split('\\n')[1:]\n",
    "    timestamp = stripped_line[0]\n",
    "    start = timestamp.split(' --> ')[0]\n",
    "    end = timestamp.split(' --> ')[1]\n",
    "\n",
    "    # sometimes 2 people talk at the same time\n",
    "    sentences = stripped_line[1:]\n",
    "    for sentence in sentences:\n",
    "        lines.append(sentence)\n",
    "        starts.append(start)\n",
    "        ends.append(end)\n",
    "    \n",
    "\n",
    "movie_captions = {\n",
    "    'line': lines,\n",
    "    'start': starts,\n",
    "    'end': ends\n",
    "}\n",
    "\n",
    "df = pd.DataFrame(movie_captions)\n"
   ]
  },
  {
   "cell_type": "code",
   "execution_count": 3,
   "metadata": {},
   "outputs": [
    {
     "name": "stdout",
     "output_type": "stream",
     "text": [
      "                                        line         start           end\n",
      "0       Report to your stations immediately.  00:00:42,800  00:00:44,802\n",
      "1  This is not a drill. We are under attack!  00:00:44,960  00:00:47,721\n",
      "2                       We are under attack!  00:00:49,120  00:00:51,088\n",
      "3                                    - Shit!  00:01:52,200  00:01:54,487\n",
      "4                                - Language!  00:01:52,200  00:01:54,487\n"
     ]
    }
   ],
   "source": [
    "print(df.head())\n",
    "df.to_csv('with_timestamps.csv')"
   ]
  },
  {
   "cell_type": "markdown",
   "metadata": {},
   "source": [
    "### Konwertowanie pliku txt z <b>informacją, kto mówi</b> na DataFrame"
   ]
  },
  {
   "cell_type": "code",
   "execution_count": 4,
   "metadata": {},
   "outputs": [],
   "source": [
    "with open('Avengers_Age_of_Ultron.txt', 'r') as file:\n",
    "    content = file.read()\n",
    "\n",
    "speakers = []\n",
    "lines = []\n",
    "\n",
    "def get_text(line: str):\n",
    "    brackets_pattern = r'\\[([^]]+)\\]'\n",
    "    text = re.sub(brackets_pattern, '', line)\n",
    "    return text.strip()\n",
    "\n",
    "\n",
    "for line in content.split('\\n\\n'):\n",
    "    if ':' in line:\n",
    "        speaker = line.split(':')[0]\n",
    "\n",
    "        whole_text = get_text(line.split(':')[1])\n",
    "\n",
    "        whole_text = whole_text.replace('...', ' ').\\\n",
    "                                        replace('?', '.').\\\n",
    "                                             replace('!', '.').\\\n",
    "                                                replace('Dr.', 'Dr ')\n",
    "\n",
    "        text_splitted = whole_text.split('.')[:-1]\n",
    "        for sentence in text_splitted:\n",
    "            if line != '':\n",
    "                lines.append(sentence)\n",
    "            speakers.append(speaker)\n",
    "    else:\n",
    "        continue\n",
    "\n",
    "\n",
    "movie_captions = {\n",
    "    'speaker': speakers,\n",
    "    'line': lines\n",
    "}\n",
    "\n",
    "df = pd.DataFrame(movie_captions)"
   ]
  },
  {
   "cell_type": "code",
   "execution_count": 5,
   "metadata": {},
   "outputs": [],
   "source": [
    "df.to_csv('who_said_splitted.csv')"
   ]
  }
 ],
 "metadata": {
  "kernelspec": {
   "display_name": "Python 3",
   "language": "python",
   "name": "python3"
  },
  "language_info": {
   "codemirror_mode": {
    "name": "ipython",
    "version": 3
   },
   "file_extension": ".py",
   "mimetype": "text/x-python",
   "name": "python",
   "nbconvert_exporter": "python",
   "pygments_lexer": "ipython3",
   "version": "3.11.1"
  }
 },
 "nbformat": 4,
 "nbformat_minor": 2
}
